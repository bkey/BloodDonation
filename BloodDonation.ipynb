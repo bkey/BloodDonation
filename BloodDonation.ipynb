{
 "metadata": {
  "name": "",
  "signature": "sha256:b4a77173016053362b2d1799f410be7cf4d68d4dd87da549dc22fca493ebad71"
 },
 "nbformat": 3,
 "nbformat_minor": 0,
 "worksheets": [
  {
   "cells": [
    {
     "cell_type": "heading",
     "level": 1,
     "metadata": {},
     "source": [
      "Data Driven Warm Up: Predict Blood Donations "
     ]
    },
    {
     "cell_type": "markdown",
     "metadata": {},
     "source": [
      "For this competition, we are asked to predict how likely a person will be to donate blood again.\n",
      "\n",
      "From Data Driven: \"Our dataset is from a mobile blood donation vehicle in Taiwan. The Blood Transfusion Service Center drives to different universities and collects blood as part of a blood drive. We want to predict whether or not a donor will give blood the next time the vehicle comes to campus.\"\n",
      "\n",
      "The dataset comes from the UCI Machine Learning Machine Learning Repository by way of Professor I-Chen Yeh of Chung-Hua University in Taiwan.\n",
      "\n",
      "Yeh, I-Cheng, Yang, King-Jang, and Ting, Tao-Ming, \"Knowledge discovery on RFM model using Bernoulli sequence, \"Expert Systems with Applications, 2008, doi:10.1016/j.eswa.2008.07.018. \n",
      "\n",
      "https://archive.ics.uci.edu/ml/datasets/Blood+Transfusion+Service+Center\n"
     ]
    },
    {
     "cell_type": "heading",
     "level": 2,
     "metadata": {},
     "source": [
      "Data Set Information"
     ]
    },
    {
     "cell_type": "markdown",
     "metadata": {},
     "source": [
      "To demonstrate the RFMTC marketing model (a modified version of RFM), this study adopted the donor database of Blood Transfusion Service Center in Hsin-Chu City in Taiwan. The center passes their blood transfusion service bus to one university in Hsin-Chu City to gather blood donated about every three months. To build a FRMTC model, we selected 748 donors at random from the donor database. These 748 donor data, each one included:\n",
      "\n",
      "R (Recency - months since last donation), \n",
      "\n",
      "F (Frequency - total number of donation), \n",
      "\n",
      "M (Monetary - total blood donated in c.c.), \n",
      "\n",
      "T (Time - months since first donation), and a binary variable representing whether he/she donated blood in March 2007 (1 stand for donating blood; 0 stands for not donating blood). "
     ]
    },
    {
     "cell_type": "code",
     "collapsed": false,
     "input": [
      "import numpy as np\n",
      "import matplotlib as mlp\n",
      "import matplotlib.pyplot as plt\n",
      "import pandas as pd\n",
      "%matplotlib inline\n",
      "\n",
      "import seaborn as sns"
     ],
     "language": "python",
     "metadata": {},
     "outputs": [],
     "prompt_number": 26
    },
    {
     "cell_type": "code",
     "collapsed": false,
     "input": [
      "train_df = pd.read_csv(\"train.csv\", header=0)\n",
      "train_df=train_df.rename(columns = {'Unnamed: 0':'id'})\n",
      "test_df = pd.read_csv(\"test.csv\", header=0)\n",
      "test_df=test_df.rename(columns = {'Unnamed: 0':'id'})"
     ],
     "language": "python",
     "metadata": {},
     "outputs": [],
     "prompt_number": 171
    },
    {
     "cell_type": "code",
     "collapsed": false,
     "input": [
      "train_df.head()"
     ],
     "language": "python",
     "metadata": {},
     "outputs": [
      {
       "html": [
        "<div style=\"max-height:1000px;max-width:1500px;overflow:auto;\">\n",
        "<table border=\"1\" class=\"dataframe\">\n",
        "  <thead>\n",
        "    <tr style=\"text-align: right;\">\n",
        "      <th></th>\n",
        "      <th>id</th>\n",
        "      <th>Months since Last Donation</th>\n",
        "      <th>Number of Donations</th>\n",
        "      <th>Total Volume Donated (c.c.)</th>\n",
        "      <th>Months since First Donation</th>\n",
        "      <th>Made Donation in March 2007</th>\n",
        "    </tr>\n",
        "  </thead>\n",
        "  <tbody>\n",
        "    <tr>\n",
        "      <th>0</th>\n",
        "      <td> 619</td>\n",
        "      <td> 2</td>\n",
        "      <td> 50</td>\n",
        "      <td> 12500</td>\n",
        "      <td> 98</td>\n",
        "      <td> 1</td>\n",
        "    </tr>\n",
        "    <tr>\n",
        "      <th>1</th>\n",
        "      <td> 664</td>\n",
        "      <td> 0</td>\n",
        "      <td> 13</td>\n",
        "      <td>  3250</td>\n",
        "      <td> 28</td>\n",
        "      <td> 1</td>\n",
        "    </tr>\n",
        "    <tr>\n",
        "      <th>2</th>\n",
        "      <td> 441</td>\n",
        "      <td> 1</td>\n",
        "      <td> 16</td>\n",
        "      <td>  4000</td>\n",
        "      <td> 35</td>\n",
        "      <td> 1</td>\n",
        "    </tr>\n",
        "    <tr>\n",
        "      <th>3</th>\n",
        "      <td> 160</td>\n",
        "      <td> 2</td>\n",
        "      <td> 20</td>\n",
        "      <td>  5000</td>\n",
        "      <td> 45</td>\n",
        "      <td> 1</td>\n",
        "    </tr>\n",
        "    <tr>\n",
        "      <th>4</th>\n",
        "      <td> 358</td>\n",
        "      <td> 1</td>\n",
        "      <td> 24</td>\n",
        "      <td>  6000</td>\n",
        "      <td> 77</td>\n",
        "      <td> 0</td>\n",
        "    </tr>\n",
        "  </tbody>\n",
        "</table>\n",
        "</div>"
       ],
       "metadata": {},
       "output_type": "pyout",
       "prompt_number": 22,
       "text": [
        "    id  Months since Last Donation  Number of Donations  \\\n",
        "0  619                           2                   50   \n",
        "1  664                           0                   13   \n",
        "2  441                           1                   16   \n",
        "3  160                           2                   20   \n",
        "4  358                           1                   24   \n",
        "\n",
        "   Total Volume Donated (c.c.)  Months since First Donation  \\\n",
        "0                        12500                           98   \n",
        "1                         3250                           28   \n",
        "2                         4000                           35   \n",
        "3                         5000                           45   \n",
        "4                         6000                           77   \n",
        "\n",
        "   Made Donation in March 2007  \n",
        "0                            1  \n",
        "1                            1  \n",
        "2                            1  \n",
        "3                            1  \n",
        "4                            0  "
       ]
      }
     ],
     "prompt_number": 22
    },
    {
     "cell_type": "code",
     "collapsed": false,
     "input": [
      "test_df.head()"
     ],
     "language": "python",
     "metadata": {},
     "outputs": [
      {
       "html": [
        "<div style=\"max-height:1000px;max-width:1500px;overflow:auto;\">\n",
        "<table border=\"1\" class=\"dataframe\">\n",
        "  <thead>\n",
        "    <tr style=\"text-align: right;\">\n",
        "      <th></th>\n",
        "      <th>id</th>\n",
        "      <th>Months since Last Donation</th>\n",
        "      <th>Number of Donations</th>\n",
        "      <th>Total Volume Donated (c.c.)</th>\n",
        "      <th>Months since First Donation</th>\n",
        "    </tr>\n",
        "  </thead>\n",
        "  <tbody>\n",
        "    <tr>\n",
        "      <th>0</th>\n",
        "      <td> 659</td>\n",
        "      <td>  2</td>\n",
        "      <td> 12</td>\n",
        "      <td> 3000</td>\n",
        "      <td> 52</td>\n",
        "    </tr>\n",
        "    <tr>\n",
        "      <th>1</th>\n",
        "      <td> 276</td>\n",
        "      <td> 21</td>\n",
        "      <td>  7</td>\n",
        "      <td> 1750</td>\n",
        "      <td> 38</td>\n",
        "    </tr>\n",
        "    <tr>\n",
        "      <th>2</th>\n",
        "      <td> 263</td>\n",
        "      <td>  4</td>\n",
        "      <td>  1</td>\n",
        "      <td>  250</td>\n",
        "      <td>  4</td>\n",
        "    </tr>\n",
        "    <tr>\n",
        "      <th>3</th>\n",
        "      <td> 303</td>\n",
        "      <td> 11</td>\n",
        "      <td> 11</td>\n",
        "      <td> 2750</td>\n",
        "      <td> 38</td>\n",
        "    </tr>\n",
        "    <tr>\n",
        "      <th>4</th>\n",
        "      <td>  83</td>\n",
        "      <td>  4</td>\n",
        "      <td> 12</td>\n",
        "      <td> 3000</td>\n",
        "      <td> 34</td>\n",
        "    </tr>\n",
        "  </tbody>\n",
        "</table>\n",
        "</div>"
       ],
       "metadata": {},
       "output_type": "pyout",
       "prompt_number": 20,
       "text": [
        "    id  Months since Last Donation  Number of Donations  \\\n",
        "0  659                           2                   12   \n",
        "1  276                          21                    7   \n",
        "2  263                           4                    1   \n",
        "3  303                          11                   11   \n",
        "4   83                           4                   12   \n",
        "\n",
        "   Total Volume Donated (c.c.)  Months since First Donation  \n",
        "0                         3000                           52  \n",
        "1                         1750                           38  \n",
        "2                          250                            4  \n",
        "3                         2750                           38  \n",
        "4                         3000                           34  "
       ]
      }
     ],
     "prompt_number": 20
    },
    {
     "cell_type": "markdown",
     "metadata": {},
     "source": [
      "From looking at the data, we can see that the \"Total Volume Donated (c.c.)\" is always equal to 250 times the number of donations and is thus not very useful"
     ]
    },
    {
     "cell_type": "code",
     "collapsed": false,
     "input": [
      "plt.hist(train_df['Number of Donations'], bins=50)\n",
      "plt.show()"
     ],
     "language": "python",
     "metadata": {},
     "outputs": [
      {
       "metadata": {},
       "output_type": "display_data",
       "png": "[encoded data removed]",
       "text": [
        "<matplotlib.figure.Figure at 0x10896ad90>"
       ]
      }
     ],
     "prompt_number": 72
    },
    {
     "cell_type": "markdown",
     "metadata": {},
     "source": [
      "A quick a dirty histogram of number of donations shows most people giving blood a small (<10) amount of times."
     ]
    },
    {
     "cell_type": "code",
     "collapsed": false,
     "input": [
      "from sklearn import cross_validation\n",
      "from sklearn import tree\n",
      "from sklearn import svm\n",
      "from sklearn import ensemble\n",
      "from sklearn import neighbors\n",
      "from sklearn import linear_model\n",
      "from sklearn import metrics\n",
      "from sklearn import preprocessing"
     ],
     "language": "python",
     "metadata": {},
     "outputs": [],
     "prompt_number": 24
    },
    {
     "cell_type": "markdown",
     "metadata": {},
     "source": [
      "Preprocess our features so they are in the same range."
     ]
    },
    {
     "cell_type": "code",
     "collapsed": false,
     "input": [
      "X_train = train_df[['Months since Last Donation','Number of Donations','Months since First Donation']]\n",
      "Y_train = train_df['Made Donation in March 2007']\n",
      "\n",
      "X_test = test_df[['Months since Last Donation','Number of Donations','Months since First Donation']]"
     ],
     "language": "python",
     "metadata": {},
     "outputs": [],
     "prompt_number": 196
    },
    {
     "cell_type": "code",
     "collapsed": false,
     "input": [
      "X_train = X_train.as_matrix().astype(np.float)\n",
      "X_test = X_test.as_matrix().astype(np.float)"
     ],
     "language": "python",
     "metadata": {},
     "outputs": [],
     "prompt_number": 200
    },
    {
     "cell_type": "code",
     "collapsed": false,
     "input": [
      "#scaler = preprocessing.StandardScaler()\n",
      "X_train = scaler.fit_transform(X_train)\n",
      "X_test = scaler.fit_transform(X_test)"
     ],
     "language": "python",
     "metadata": {},
     "outputs": [],
     "prompt_number": 201
    },
    {
     "cell_type": "markdown",
     "metadata": {},
     "source": [
      "Now, let's try some stupid classifiers that predict all ones or all zeros"
     ]
    },
    {
     "cell_type": "code",
     "collapsed": false,
     "input": [
      "print('All Zero Classifier: {:.4f}'.format(metrics.accuracy_score(Y_train, [0 for ii in Y_train])))\n",
      "print('All One Classifier: {:.4f}'.format(metrics.accuracy_score(Y_train, [1 for ii in Y_train])))"
     ],
     "language": "python",
     "metadata": {},
     "outputs": [
      {
       "output_type": "stream",
       "stream": "stdout",
       "text": [
        "All Zero Classifier: 0.7604\n",
        "All One Classifier: 0.2396\n"
       ]
      }
     ],
     "prompt_number": 123
    },
    {
     "cell_type": "markdown",
     "metadata": {},
     "source": [
      "So, most of the participants (76%) did not give blood in March 2007 and we can obtain a pretty good accuaracy score just by always guessing zero. That's why we should never judge a model by accuracy alone!"
     ]
    },
    {
     "cell_type": "markdown",
     "metadata": {},
     "source": [
      "Now let's ry a few real models and see how they compare. Sklearn makes it easy because all of their classifiers use a similar interface."
     ]
    },
    {
     "cell_type": "code",
     "collapsed": false,
     "input": [
      "def try_model(x, y, clf_class, **kwargs):\n",
      "    stratified_k_fold = cross_validation.StratifiedKFold(y, n_folds=10, shuffle=True)\n",
      "    y_pred = y.copy()\n",
      "    for ii, jj in stratified_k_fold:\n",
      "        X_train, X_test = X[ii], X[jj]\n",
      "        y_train = y[ii]\n",
      "        clf = clf_class(**kwargs)\n",
      "        clf.fit(X_train,y_train)\n",
      "        y_pred[jj] = clf.predict(X_test)\n",
      "    return y_pred"
     ],
     "language": "python",
     "metadata": {},
     "outputs": [],
     "prompt_number": 215
    },
    {
     "cell_type": "code",
     "collapsed": false,
     "input": [
      "sample_models = {\n",
      "                1: {\n",
      "                    'model': linear_model.LogisticRegression,\n",
      "                    'title': 'Logistic Regression',\n",
      "                   },\n",
      "                2: {\n",
      "                    'model': ensemble.GradientBoostingClassifier,\n",
      "                    'title': 'Gradient Boosting',\n",
      "                },\n",
      "                3: {\n",
      "                    'model': svm.SVC,\n",
      "                    'title': 'SVM',\n",
      "                },\n",
      "                4 : {\n",
      "                    'model': ensemble.RandomForestClassifier,\n",
      "                    'title': 'Random Forest',\n",
      "                },\n",
      "                5 : {\n",
      "                    'model': neighbors.KNeighborsClassifier,\n",
      "                    'title': 'KNeighbors',\n",
      "                }\n",
      "}"
     ],
     "language": "python",
     "metadata": {},
     "outputs": [],
     "prompt_number": 216
    },
    {
     "cell_type": "code",
     "collapsed": false,
     "input": [
      "for ii, values in sample_models.items():\n",
      "    m = values['model']\n",
      "    title = values['title']\n",
      "    print('{}: {:.4f}'.format(title, metrics.accuracy_score(Y_train, try_model(X_train, Y_train, m))))"
     ],
     "language": "python",
     "metadata": {},
     "outputs": [
      {
       "output_type": "stream",
       "stream": "stdout",
       "text": [
        "Logistic Regression: 0.7639\n",
        "Gradient Boosting: 0.7674"
       ]
      },
      {
       "output_type": "stream",
       "stream": "stdout",
       "text": [
        "\n",
        "SVM: 0.7622"
       ]
      },
      {
       "output_type": "stream",
       "stream": "stdout",
       "text": [
        "\n",
        "Random Forest: 0.7587"
       ]
      },
      {
       "output_type": "stream",
       "stream": "stdout",
       "text": [
        "\n",
        "KNeighbors: 0.7847\n"
       ]
      }
     ],
     "prompt_number": 225
    },
    {
     "cell_type": "code",
     "collapsed": false,
     "input": [
      "from sklearn.metrics import confusion_matrix"
     ],
     "language": "python",
     "metadata": {},
     "outputs": [],
     "prompt_number": 218
    },
    {
     "cell_type": "code",
     "collapsed": false,
     "input": [
      "fix, ax = plt.subplots(figsize=(16, 12))\n",
      "plt.suptitle('Confusion Matrix of Classifiers')\n",
      "for ii, values in sample_models.items():\n",
      "    matrix = metrics.confusion_matrix(Y_train, try_model(X_train, Y_train, values['model']))\n",
      "    title = values['title']\n",
      "    plt.subplot(3, 3, ii) # starts from 1\n",
      "    plt.title(title);\n",
      "    sns.heatmap(matrix, annot=True,  fmt='');"
     ],
     "language": "python",
     "metadata": {},
     "outputs": [
      {
       "metadata": {},
       "output_type": "display_data",
       "png": "[encoded data removed]",
       "text": [
        "<matplotlib.figure.Figure at 0x109cf8c50>"
       ]
      }
     ],
     "prompt_number": 219
    },
    {
     "cell_type": "code",
     "collapsed": false,
     "input": [],
     "language": "python",
     "metadata": {},
     "outputs": [],
     "prompt_number": 86
    },
    {
     "cell_type": "code",
     "collapsed": false,
     "input": [
      "for ii, values in sample_models.items():\n",
      "    m = values['model']\n",
      "    title = values['title']\n",
      "    print('{} {}'.format(title, metrics.classification_report(Y_train, try_model(X_train, Y_train, m))))"
     ],
     "language": "python",
     "metadata": {},
     "outputs": [
      {
       "output_type": "stream",
       "stream": "stdout",
       "text": [
        "Logistic Regression              precision    recall  f1-score   support\n",
        "\n",
        "          0       0.77      0.97      0.86       438\n",
        "          1       0.52      0.10      0.17       138\n",
        "\n",
        "avg / total       0.71      0.76      0.70       576\n",
        "\n",
        "Gradient Boosting              precision    recall  f1-score   support\n",
        "\n",
        "          0       0.81      0.90      0.85       438\n",
        "          1       0.51      0.32      0.39       138\n",
        "\n",
        "avg / total       0.74      0.76      0.74       576\n"
       ]
      },
      {
       "output_type": "stream",
       "stream": "stdout",
       "text": [
        "\n",
        "SVM              precision    recall  f1-score   support\n",
        "\n",
        "          0       0.79      0.96      0.87       438\n",
        "          1       0.59      0.20      0.29       138\n",
        "\n",
        "avg / total       0.74      0.77      0.73       576\n"
       ]
      },
      {
       "output_type": "stream",
       "stream": "stdout",
       "text": [
        "\n",
        "Random Forest              precision    recall  f1-score   support\n",
        "\n",
        "          0       0.80      0.88      0.84       438\n",
        "          1       0.44      0.31      0.37       138\n",
        "\n",
        "avg / total       0.72      0.74      0.72       576\n"
       ]
      },
      {
       "output_type": "stream",
       "stream": "stdout",
       "text": [
        "\n",
        "KNeighbors              precision    recall  f1-score   support\n",
        "\n",
        "          0       0.83      0.91      0.87       438\n",
        "          1       0.59      0.40      0.48       138\n",
        "\n",
        "avg / total       0.77      0.79      0.77       576\n",
        "\n"
       ]
      }
     ],
     "prompt_number": 220
    },
    {
     "cell_type": "code",
     "collapsed": false,
     "input": [
      "from sklearn.metrics import roc_curve, auc\n",
      "\n",
      "def print_roc_probas(name, probs, ytest):\n",
      "    fpr, tpr, thresholds = roc_curve(ytest, probs[::,1])\n",
      "\n",
      "    roc_auc = auc(fpr, tpr)\n",
      "    print roc_auc\n",
      "    plt.clf()\n",
      "    plt.plot(fpr, tpr)\n",
      "    plt.plot([0, 1], [0, 1], 'k--')\n",
      "    plt.xlim([0.0, 1.05])\n",
      "    plt.ylim([0.0, 1.05])\n",
      "    plt.xlabel('False Positive Rate')\n",
      "    plt.ylabel('True Positive Rate')\n",
      "    plt.title(name)\n",
      "    plt.show()"
     ],
     "language": "python",
     "metadata": {},
     "outputs": [],
     "prompt_number": 221
    },
    {
     "cell_type": "code",
     "collapsed": false,
     "input": [
      "for ii, values in sample_models.items():\n",
      "    m = values['model']\n",
      "    title = values['title']\n",
      "    if title == \"SVM\":\n",
      "        probas = m(probability=True).fit(X_train,Y_train).predict_proba(X_train)\n",
      "    else:\n",
      "        probas = m().fit(X_train,Y_train).predict_proba(X_train)\n",
      "    print print_roc_probas(title, probas, Y_train)"
     ],
     "language": "python",
     "metadata": {},
     "outputs": [
      {
       "output_type": "stream",
       "stream": "stdout",
       "text": [
        "0.750579048375\n"
       ]
      },
      {
       "metadata": {},
       "output_type": "display_data",
       "png": "[encoded data removed]",
       "text": [
        "<matplotlib.figure.Figure at 0x10a2d5790>"
       ]
      },
      {
       "output_type": "stream",
       "stream": "stdout",
       "text": [
        "None\n",
        "0.888731718616"
       ]
      },
      {
       "output_type": "stream",
       "stream": "stdout",
       "text": [
        "\n"
       ]
      },
      {
       "metadata": {},
       "output_type": "display_data",
       "png": "[encoded data removed]",
       "text": [
        "<matplotlib.figure.Figure at 0x109cbbd50>"
       ]
      },
      {
       "output_type": "stream",
       "stream": "stdout",
       "text": [
        "None\n",
        "0.739477863808\n"
       ]
      },
      {
       "metadata": {},
       "output_type": "display_data",
       "png": "[encoded data removed]",
       "text": [
        "<matplotlib.figure.Figure at 0x10a332e90>"
       ]
      },
      {
       "output_type": "stream",
       "stream": "stdout",
       "text": [
        "None\n",
        "0.961576004235\n"
       ]
      },
      {
       "metadata": {},
       "output_type": "display_data",
       "png": "[encoded data removed]",
       "text": [
        "<matplotlib.figure.Figure at 0x108dd43d0>"
       ]
      },
      {
       "output_type": "stream",
       "stream": "stdout",
       "text": [
        "None\n",
        "0.84609721395\n"
       ]
      },
      {
       "metadata": {},
       "output_type": "display_data",
       "png": "[encoded data removed]",
       "text": [
        "<matplotlib.figure.Figure at 0x10864f690>"
       ]
      },
      {
       "output_type": "stream",
       "stream": "stdout",
       "text": [
        "None\n"
       ]
      }
     ],
     "prompt_number": 223
    },
    {
     "cell_type": "code",
     "collapsed": false,
     "input": [
      "solution = pd.DataFrame(test_df['id'])\n",
      "\n",
      "clf = ensemble.GradientBoostingClassifier()\n",
      "clf.fit(X_train, Y_train)\n",
      "y_test_pred = clf.predict_proba(X_test)\n",
      "np_values = np.array(y_test_pred, dtype = np.float)\n",
      "solution['probs'] = np_values[:,1]\n",
      "solution.to_csv(\"output.csv\", index=False)"
     ],
     "language": "python",
     "metadata": {},
     "outputs": [],
     "prompt_number": 205
    },
    {
     "cell_type": "heading",
     "level": 2,
     "metadata": {},
     "source": [
      "Evaluation"
     ]
    },
    {
     "cell_type": "markdown",
     "metadata": {},
     "source": [
      "Log loss =\u22121n\u2211ni=1[yilog(y\u0302 i)+(1\u2212yi)log(1\u2212y\u0302 i)]\n",
      "\n",
      "The metric used for this competition is logarithmic loss. y\u0302  is the probability that y=1. Logarithmic loss provides a steep penalty for predictions that are both confident and wrong. The goal is to minimize the log loss."
     ]
    },
    {
     "cell_type": "markdown",
     "metadata": {},
     "source": [
      "The Gradient Boosting classifier receives a score of 0.5127"
     ]
    },
    {
     "cell_type": "code",
     "collapsed": false,
     "input": [],
     "language": "python",
     "metadata": {},
     "outputs": [],
     "prompt_number": 202
    },
    {
     "cell_type": "code",
     "collapsed": false,
     "input": [],
     "language": "python",
     "metadata": {},
     "outputs": []
    }
   ],
   "metadata": {}
  }
 ]
}